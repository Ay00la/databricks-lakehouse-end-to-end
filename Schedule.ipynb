{
 "cells": [
  {
   "cell_type": "code",
   "execution_count": 0,
   "metadata": {
    "application/vnd.databricks.v1+cell": {
     "cellMetadata": {
      "byteLimit": 2048000,
      "rowLimit": 10000
     },
     "inputWidgets": {},
     "nuid": "4d967373-2723-4d0e-ae0a-d9bacec32ff1",
     "showTitle": false,
     "tableResultSettingsMap": {},
     "title": ""
    }
   },
   "outputs": [
    {
     "output_type": "execute_result",
     "data": {
      "text/plain": [
       "2005"
      ]
     },
     "execution_count": 23,
     "metadata": {},
     "output_type": "execute_result"
    },
    {
     "output_type": "execute_result",
     "data": {
      "text/plain": [
       "0"
      ]
     },
     "execution_count": 27,
     "metadata": {},
     "output_type": "execute_result"
    },
    {
     "output_type": "execute_result",
     "data": {
      "text/plain": [
       "51"
      ]
     },
     "execution_count": 28,
     "metadata": {},
     "output_type": "execute_result"
    },
    {
     "output_type": "stream",
     "name": "stdout",
     "output_type": "stream",
     "text": [
      "+-------+-----------------------+-----------------------+---------+-----------+------------------------+-----------+---------------------+--------------+-----------------------------+----------------+--------------------------+-------------------+--------------+----------+-----------+---------------------+---------------------+--------------------------------------+-----------+-------------+\n|trip_id|trip_start_timestamp   |trip_end_timestamp     |driver_id|driver_name|source_location_address1|source_city|source_province_state|source_country|destination_location_address1|destination_city|destination_province_state|destination_country|total_distance|total_fare|trip_status|delay_start_time_mins|payment_method       |payment_Status                        |customer_id|customer_name|\n+-------+-----------------------+-----------------------+---------+-----------+------------------------+-----------+---------------------+--------------+-----------------------------+----------------+--------------------------+-------------------+--------------+----------+-----------+---------------------+---------------------+--------------------------------------+-----------+-------------+\n|2004   |2023-05-20 03:17:52.907|2023-05-20 05:17:52.907|A6       |David      |null                    |Chennai    |null                 |India         |null                         |Salem           |null                      |India              |256           |1738      |Completed  |2                    |Credit/Online Banking|Confirmation awaiting from third party|7          |ABC2         |\n+-------+-----------------------+-----------------------+---------+-----------+------------------------+-----------+---------------------+--------------+-----------------------------+----------------+--------------------------+-------------------+--------------+----------+-----------+---------------------+---------------------+--------------------------------------+-----------+-------------+\n\n"
     ]
    }
   ],
   "source": [
    "%run /Workspace/Shared/Bronze_Zone/Delta_Lake_validation"
   ]
  },
  {
   "cell_type": "code",
   "execution_count": 0,
   "metadata": {
    "application/vnd.databricks.v1+cell": {
     "cellMetadata": {
      "byteLimit": 2048000,
      "rowLimit": 10000
     },
     "inputWidgets": {},
     "nuid": "ca27797c-c555-49b3-bafb-7c91bd939431",
     "showTitle": false,
     "tableResultSettingsMap": {},
     "title": ""
    }
   },
   "outputs": [
    {
     "output_type": "execute_result",
     "data": {
      "text/plain": [
       "<function __main__.customer_gender(customer_id)>"
      ]
     },
     "execution_count": 38,
     "metadata": {},
     "output_type": "execute_result"
    },
    {
     "output_type": "display_data",
     "data": {
      "text/html": [
       "<style scoped>\n",
       "  .table-result-container {\n",
       "    max-height: 300px;\n",
       "    overflow: auto;\n",
       "  }\n",
       "  table, th, td {\n",
       "    border: 1px solid black;\n",
       "    border-collapse: collapse;\n",
       "  }\n",
       "  th, td {\n",
       "    padding: 5px;\n",
       "  }\n",
       "  th {\n",
       "    text-align: left;\n",
       "  }\n",
       "</style><div class='table-result-container'><table class='table-result'><thead style='background-color: white'><tr><th>customer_id</th><th>customer_name</th><th>customer_gender</th></tr></thead><tbody><tr><td>15</td><td>ABC11</td><td>F</td></tr><tr><td>18</td><td>ABC13</td><td>M</td></tr><tr><td>14</td><td>ABC11</td><td>M</td></tr><tr><td>34</td><td>ABC30</td><td>M</td></tr><tr><td>20</td><td>ABC19</td><td>M</td></tr><tr><td>1</td><td>ABC37</td><td>F</td></tr><tr><td>19</td><td>ABC18</td><td>F</td></tr><tr><td>39</td><td>ABC38</td><td>F</td></tr><tr><td>30</td><td>ABC29</td><td>M</td></tr><tr><td>37</td><td>ABC35</td><td>F</td></tr><tr><td>33</td><td>ABC30</td><td>F</td></tr><tr><td>17</td><td>ABC13</td><td>F</td></tr><tr><td>21</td><td>ABC19</td><td>F</td></tr><tr><td>35</td><td>ABC34</td><td>F</td></tr><tr><td>4</td><td>ABC1</td><td>M</td></tr><tr><td>28</td><td>ABC23</td><td>M</td></tr><tr><td>1</td><td>ABC38</td><td>F</td></tr><tr><td>12</td><td>ABC8</td><td>M</td></tr><tr><td>3</td><td>ABC38</td><td>F</td></tr><tr><td>13</td><td>ABC12</td><td>F</td></tr><tr><td>21</td><td>ABC18</td><td>F</td></tr><tr><td>29</td><td>ABC28</td><td>F</td></tr><tr><td>38</td><td>ABC37</td><td>M</td></tr><tr><td>33</td><td>ABC28</td><td>F</td></tr><tr><td>19</td><td>ABC17</td><td>F</td></tr><tr><td>21</td><td>ABC20</td><td>F</td></tr><tr><td>36</td><td>ABC33</td><td>M</td></tr><tr><td>12</td><td>ABC7</td><td>M</td></tr><tr><td>12</td><td>ABC9</td><td>M</td></tr><tr><td>28</td><td>ABC25</td><td>M</td></tr><tr><td>13</td><td>ABC9</td><td>F</td></tr><tr><td>8</td><td>ABC7</td><td>M</td></tr><tr><td>32</td><td>ABC27</td><td>M</td></tr><tr><td>5</td><td>ABC0</td><td>F</td></tr><tr><td>5</td><td>ABC2</td><td>F</td></tr><tr><td>9</td><td>ABC6</td><td>F</td></tr><tr><td>24</td><td>ABC21</td><td>M</td></tr><tr><td>24</td><td>ABC22</td><td>M</td></tr><tr><td>17</td><td>ABC15</td><td>F</td></tr><tr><td>2</td><td>ABC37</td><td>M</td></tr><tr><td>25</td><td>ABC20</td><td>F</td></tr><tr><td>29</td><td>ABC24</td><td>F</td></tr><tr><td>13</td><td>ABC10</td><td>F</td></tr><tr><td>38</td><td>ABC36</td><td>M</td></tr><tr><td>22</td><td>ABC18</td><td>M</td></tr><tr><td>31</td><td>ABC30</td><td>F</td></tr><tr><td>19</td><td>ABC16</td><td>F</td></tr><tr><td>13</td><td>ABC8</td><td>F</td></tr><tr><td>39</td><td>ABC34</td><td>F</td></tr><tr><td>12</td><td>ABC11</td><td>M</td></tr><tr><td>36</td><td>ABC31</td><td>M</td></tr><tr><td>23</td><td>ABC22</td><td>F</td></tr><tr><td>8</td><td>ABC6</td><td>M</td></tr><tr><td>28</td><td>ABC26</td><td>M</td></tr><tr><td>26</td><td>ABC23</td><td>M</td></tr><tr><td>23</td><td>ABC18</td><td>F</td></tr><tr><td>18</td><td>ABC16</td><td>M</td></tr><tr><td>5</td><td>ABC4</td><td>F</td></tr><tr><td>21</td><td>ABC16</td><td>F</td></tr><tr><td>37</td><td>ABC33</td><td>F</td></tr><tr><td>7</td><td>ABC2</td><td>F</td></tr><tr><td>20</td><td>ABC18</td><td>M</td></tr><tr><td>9</td><td>ABC5</td><td>F</td></tr><tr><td>2</td><td>ABC39</td><td>M</td></tr><tr><td>21</td><td>ABC17</td><td>F</td></tr><tr><td>35</td><td>ABC31</td><td>F</td></tr><tr><td>32</td><td>ABC30</td><td>M</td></tr><tr><td>17</td><td>ABC16</td><td>F</td></tr><tr><td>10</td><td>ABC8</td><td>M</td></tr><tr><td>17</td><td>ABC12</td><td>F</td></tr><tr><td>2</td><td>ABC38</td><td>M</td></tr><tr><td>9</td><td>ABC4</td><td>F</td></tr><tr><td>39</td><td>ABC35</td><td>F</td></tr><tr><td>14</td><td>ABC9</td><td>M</td></tr><tr><td>27</td><td>ABC25</td><td>F</td></tr><tr><td>34</td><td>ABC32</td><td>M</td></tr><tr><td>31</td><td>ABC29</td><td>F</td></tr><tr><td>4</td><td>ABC2</td><td>M</td></tr><tr><td>23</td><td>ABC19</td><td>F</td></tr><tr><td>33</td><td>ABC29</td><td>F</td></tr><tr><td>30</td><td>ABC27</td><td>M</td></tr><tr><td>24</td><td>ABC20</td><td>M</td></tr><tr><td>26</td><td>ABC24</td><td>M</td></tr><tr><td>15</td><td>ABC12</td><td>F</td></tr><tr><td>38</td><td>ABC33</td><td>M</td></tr><tr><td>1</td><td>ABC0</td><td>F</td></tr><tr><td>18</td><td>ABC14</td><td>M</td></tr><tr><td>6</td><td>ABC2</td><td>M</td></tr><tr><td>20</td><td>ABC17</td><td>M</td></tr><tr><td>36</td><td>ABC34</td><td>M</td></tr><tr><td>18</td><td>ABC17</td><td>M</td></tr><tr><td>25</td><td>ABC21</td><td>F</td></tr><tr><td>31</td><td>ABC27</td><td>F</td></tr><tr><td>10</td><td>ABC6</td><td>M</td></tr><tr><td>14</td><td>ABC10</td><td>M</td></tr><tr><td>30</td><td>ABC25</td><td>M</td></tr><tr><td>22</td><td>ABC20</td><td>M</td></tr><tr><td>3</td><td>ABC1</td><td>F</td></tr><tr><td>36</td><td>ABC32</td><td>M</td></tr><tr><td>15</td><td>ABC14</td><td>F</td></tr><tr><td>10</td><td>ABC7</td><td>M</td></tr><tr><td>8</td><td>ABC5</td><td>M</td></tr><tr><td>17</td><td>ABC14</td><td>F</td></tr><tr><td>2</td><td>ABC1</td><td>M</td></tr><tr><td>14</td><td>ABC13</td><td>M</td></tr><tr><td>6</td><td>ABC4</td><td>M</td></tr><tr><td>29</td><td>ABC26</td><td>F</td></tr><tr><td>15</td><td>ABC10</td><td>F</td></tr><tr><td>26</td><td>ABC21</td><td>M</td></tr><tr><td>9</td><td>ABC7</td><td>F</td></tr><tr><td>39</td><td>ABC37</td><td>F</td></tr><tr><td>22</td><td>ABC19</td><td>M</td></tr><tr><td>19</td><td>ABC14</td><td>F</td></tr><tr><td>15</td><td>ABC13</td><td>F</td></tr><tr><td>25</td><td>ABC23</td><td>F</td></tr><tr><td>5</td><td>ABC1</td><td>F</td></tr><tr><td>11</td><td>ABC6</td><td>F</td></tr><tr><td>27</td><td>ABC26</td><td>F</td></tr><tr><td>6</td><td>ABC5</td><td>M</td></tr><tr><td>12</td><td>ABC10</td><td>M</td></tr><tr><td>2</td><td>ABC0</td><td>M</td></tr><tr><td>1</td><td>ABC36</td><td>F</td></tr><tr><td>32</td><td>ABC31</td><td>M</td></tr><tr><td>11</td><td>ABC7</td><td>F</td></tr><tr><td>22</td><td>ABC17</td><td>M</td></tr><tr><td>8</td><td>ABC4</td><td>M</td></tr><tr><td>7</td><td>ABC3</td><td>F</td></tr><tr><td>16</td><td>ABC14</td><td>M</td></tr><tr><td>7</td><td>ABC5</td><td>F</td></tr><tr><td>26</td><td>ABC25</td><td>M</td></tr><tr><td>37</td><td>ABC32</td><td>F</td></tr><tr><td>3</td><td>ABC39</td><td>F</td></tr><tr><td>27</td><td>ABC23</td><td>F</td></tr><tr><td>16</td><td>ABC11</td><td>M</td></tr><tr><td>14</td><td>ABC12</td><td>M</td></tr><tr><td>36</td><td>ABC35</td><td>M</td></tr><tr><td>32</td><td>ABC28</td><td>M</td></tr><tr><td>34</td><td>ABC29</td><td>M</td></tr><tr><td>35</td><td>ABC33</td><td>F</td></tr><tr><td>8</td><td>ABC3</td><td>M</td></tr><tr><td>7</td><td>ABC6</td><td>F</td></tr><tr><td>38</td><td>ABC34</td><td>M</td></tr><tr><td>0</td><td>ABC36</td><td>M</td></tr><tr><td>33</td><td>ABC31</td><td>F</td></tr><tr><td>11</td><td>ABC9</td><td>F</td></tr><tr><td>35</td><td>ABC30</td><td>F</td></tr><tr><td>20</td><td>ABC15</td><td>M</td></tr><tr><td>28</td><td>ABC27</td><td>M</td></tr><tr><td>22</td><td>ABC21</td><td>M</td></tr><tr><td>11</td><td>ABC8</td><td>F</td></tr><tr><td>38</td><td>ABC35</td><td>M</td></tr><tr><td>23</td><td>ABC21</td><td>F</td></tr><tr><td>19</td><td>ABC15</td><td>F</td></tr><tr><td>37</td><td>ABC36</td><td>F</td></tr><tr><td>29</td><td>ABC27</td><td>F</td></tr><tr><td>10</td><td>ABC9</td><td>M</td></tr><tr><td>39</td><td>ABC36</td><td>F</td></tr><tr><td>4</td><td>ABC3</td><td>M</td></tr><tr><td>9</td><td>ABC8</td><td>F</td></tr><tr><td>16</td><td>ABC15</td><td>M</td></tr><tr><td>13</td><td>ABC11</td><td>F</td></tr><tr><td>28</td><td>ABC24</td><td>M</td></tr><tr><td>30</td><td>ABC28</td><td>M</td></tr><tr><td>30</td><td>ABC26</td><td>M</td></tr><tr><td>34</td><td>ABC33</td><td>M</td></tr><tr><td>10</td><td>ABC5</td><td>M</td></tr><tr><td>16</td><td>ABC13</td><td>M</td></tr><tr><td>26</td><td>ABC22</td><td>M</td></tr><tr><td>24</td><td>ABC19</td><td>M</td></tr><tr><td>16</td><td>ABC12</td><td>M</td></tr><tr><td>0</td><td>ABC35</td><td>M</td></tr><tr><td>33</td><td>ABC32</td><td>F</td></tr><tr><td>18</td><td>ABC15</td><td>M</td></tr><tr><td>27</td><td>ABC22</td><td>F</td></tr><tr><td>37</td><td>ABC34</td><td>F</td></tr><tr><td>4</td><td>ABC39</td><td>M</td></tr><tr><td>31</td><td>ABC26</td><td>F</td></tr><tr><td>5</td><td>ABC3</td><td>F</td></tr><tr><td>25</td><td>ABC24</td><td>F</td></tr><tr><td>35</td><td>ABC32</td><td>F</td></tr><tr><td>34</td><td>ABC31</td><td>M</td></tr><tr><td>20</td><td>ABC16</td><td>M</td></tr><tr><td>1</td><td>ABC39</td><td>F</td></tr><tr><td>6</td><td>ABC3</td><td>M</td></tr><tr><td>32</td><td>ABC29</td><td>M</td></tr><tr><td>24</td><td>ABC23</td><td>M</td></tr><tr><td>11</td><td>ABC10</td><td>F</td></tr><tr><td>3</td><td>ABC0</td><td>F</td></tr><tr><td>23</td><td>ABC20</td><td>F</td></tr><tr><td>25</td><td>ABC22</td><td>F</td></tr><tr><td>4</td><td>ABC0</td><td>M</td></tr><tr><td>27</td><td>ABC24</td><td>F</td></tr><tr><td>29</td><td>ABC25</td><td>F</td></tr><tr><td>3</td><td>ABC2</td><td>F</td></tr><tr><td>31</td><td>ABC28</td><td>F</td></tr><tr><td>7</td><td>ABC4</td><td>F</td></tr><tr><td>6</td><td>ABC1</td><td>M</td></tr></tbody></table></div>"
      ]
     },
     "metadata": {
      "application/vnd.databricks.v1+output": {
       "addedWidgets": {},
       "aggData": [],
       "aggError": "",
       "aggOverflow": false,
       "aggSchema": [],
       "aggSeriesLimitReached": false,
       "aggType": "",
       "arguments": {},
       "columnCustomDisplayInfos": {},
       "data": [
        [
         15,
         "ABC11",
         "F"
        ],
        [
         18,
         "ABC13",
         "M"
        ],
        [
         14,
         "ABC11",
         "M"
        ],
        [
         34,
         "ABC30",
         "M"
        ],
        [
         20,
         "ABC19",
         "M"
        ],
        [
         1,
         "ABC37",
         "F"
        ],
        [
         19,
         "ABC18",
         "F"
        ],
        [
         39,
         "ABC38",
         "F"
        ],
        [
         30,
         "ABC29",
         "M"
        ],
        [
         37,
         "ABC35",
         "F"
        ],
        [
         33,
         "ABC30",
         "F"
        ],
        [
         17,
         "ABC13",
         "F"
        ],
        [
         21,
         "ABC19",
         "F"
        ],
        [
         35,
         "ABC34",
         "F"
        ],
        [
         4,
         "ABC1",
         "M"
        ],
        [
         28,
         "ABC23",
         "M"
        ],
        [
         1,
         "ABC38",
         "F"
        ],
        [
         12,
         "ABC8",
         "M"
        ],
        [
         3,
         "ABC38",
         "F"
        ],
        [
         13,
         "ABC12",
         "F"
        ],
        [
         21,
         "ABC18",
         "F"
        ],
        [
         29,
         "ABC28",
         "F"
        ],
        [
         38,
         "ABC37",
         "M"
        ],
        [
         33,
         "ABC28",
         "F"
        ],
        [
         19,
         "ABC17",
         "F"
        ],
        [
         21,
         "ABC20",
         "F"
        ],
        [
         36,
         "ABC33",
         "M"
        ],
        [
         12,
         "ABC7",
         "M"
        ],
        [
         12,
         "ABC9",
         "M"
        ],
        [
         28,
         "ABC25",
         "M"
        ],
        [
         13,
         "ABC9",
         "F"
        ],
        [
         8,
         "ABC7",
         "M"
        ],
        [
         32,
         "ABC27",
         "M"
        ],
        [
         5,
         "ABC0",
         "F"
        ],
        [
         5,
         "ABC2",
         "F"
        ],
        [
         9,
         "ABC6",
         "F"
        ],
        [
         24,
         "ABC21",
         "M"
        ],
        [
         24,
         "ABC22",
         "M"
        ],
        [
         17,
         "ABC15",
         "F"
        ],
        [
         2,
         "ABC37",
         "M"
        ],
        [
         25,
         "ABC20",
         "F"
        ],
        [
         29,
         "ABC24",
         "F"
        ],
        [
         13,
         "ABC10",
         "F"
        ],
        [
         38,
         "ABC36",
         "M"
        ],
        [
         22,
         "ABC18",
         "M"
        ],
        [
         31,
         "ABC30",
         "F"
        ],
        [
         19,
         "ABC16",
         "F"
        ],
        [
         13,
         "ABC8",
         "F"
        ],
        [
         39,
         "ABC34",
         "F"
        ],
        [
         12,
         "ABC11",
         "M"
        ],
        [
         36,
         "ABC31",
         "M"
        ],
        [
         23,
         "ABC22",
         "F"
        ],
        [
         8,
         "ABC6",
         "M"
        ],
        [
         28,
         "ABC26",
         "M"
        ],
        [
         26,
         "ABC23",
         "M"
        ],
        [
         23,
         "ABC18",
         "F"
        ],
        [
         18,
         "ABC16",
         "M"
        ],
        [
         5,
         "ABC4",
         "F"
        ],
        [
         21,
         "ABC16",
         "F"
        ],
        [
         37,
         "ABC33",
         "F"
        ],
        [
         7,
         "ABC2",
         "F"
        ],
        [
         20,
         "ABC18",
         "M"
        ],
        [
         9,
         "ABC5",
         "F"
        ],
        [
         2,
         "ABC39",
         "M"
        ],
        [
         21,
         "ABC17",
         "F"
        ],
        [
         35,
         "ABC31",
         "F"
        ],
        [
         32,
         "ABC30",
         "M"
        ],
        [
         17,
         "ABC16",
         "F"
        ],
        [
         10,
         "ABC8",
         "M"
        ],
        [
         17,
         "ABC12",
         "F"
        ],
        [
         2,
         "ABC38",
         "M"
        ],
        [
         9,
         "ABC4",
         "F"
        ],
        [
         39,
         "ABC35",
         "F"
        ],
        [
         14,
         "ABC9",
         "M"
        ],
        [
         27,
         "ABC25",
         "F"
        ],
        [
         34,
         "ABC32",
         "M"
        ],
        [
         31,
         "ABC29",
         "F"
        ],
        [
         4,
         "ABC2",
         "M"
        ],
        [
         23,
         "ABC19",
         "F"
        ],
        [
         33,
         "ABC29",
         "F"
        ],
        [
         30,
         "ABC27",
         "M"
        ],
        [
         24,
         "ABC20",
         "M"
        ],
        [
         26,
         "ABC24",
         "M"
        ],
        [
         15,
         "ABC12",
         "F"
        ],
        [
         38,
         "ABC33",
         "M"
        ],
        [
         1,
         "ABC0",
         "F"
        ],
        [
         18,
         "ABC14",
         "M"
        ],
        [
         6,
         "ABC2",
         "M"
        ],
        [
         20,
         "ABC17",
         "M"
        ],
        [
         36,
         "ABC34",
         "M"
        ],
        [
         18,
         "ABC17",
         "M"
        ],
        [
         25,
         "ABC21",
         "F"
        ],
        [
         31,
         "ABC27",
         "F"
        ],
        [
         10,
         "ABC6",
         "M"
        ],
        [
         14,
         "ABC10",
         "M"
        ],
        [
         30,
         "ABC25",
         "M"
        ],
        [
         22,
         "ABC20",
         "M"
        ],
        [
         3,
         "ABC1",
         "F"
        ],
        [
         36,
         "ABC32",
         "M"
        ],
        [
         15,
         "ABC14",
         "F"
        ],
        [
         10,
         "ABC7",
         "M"
        ],
        [
         8,
         "ABC5",
         "M"
        ],
        [
         17,
         "ABC14",
         "F"
        ],
        [
         2,
         "ABC1",
         "M"
        ],
        [
         14,
         "ABC13",
         "M"
        ],
        [
         6,
         "ABC4",
         "M"
        ],
        [
         29,
         "ABC26",
         "F"
        ],
        [
         15,
         "ABC10",
         "F"
        ],
        [
         26,
         "ABC21",
         "M"
        ],
        [
         9,
         "ABC7",
         "F"
        ],
        [
         39,
         "ABC37",
         "F"
        ],
        [
         22,
         "ABC19",
         "M"
        ],
        [
         19,
         "ABC14",
         "F"
        ],
        [
         15,
         "ABC13",
         "F"
        ],
        [
         25,
         "ABC23",
         "F"
        ],
        [
         5,
         "ABC1",
         "F"
        ],
        [
         11,
         "ABC6",
         "F"
        ],
        [
         27,
         "ABC26",
         "F"
        ],
        [
         6,
         "ABC5",
         "M"
        ],
        [
         12,
         "ABC10",
         "M"
        ],
        [
         2,
         "ABC0",
         "M"
        ],
        [
         1,
         "ABC36",
         "F"
        ],
        [
         32,
         "ABC31",
         "M"
        ],
        [
         11,
         "ABC7",
         "F"
        ],
        [
         22,
         "ABC17",
         "M"
        ],
        [
         8,
         "ABC4",
         "M"
        ],
        [
         7,
         "ABC3",
         "F"
        ],
        [
         16,
         "ABC14",
         "M"
        ],
        [
         7,
         "ABC5",
         "F"
        ],
        [
         26,
         "ABC25",
         "M"
        ],
        [
         37,
         "ABC32",
         "F"
        ],
        [
         3,
         "ABC39",
         "F"
        ],
        [
         27,
         "ABC23",
         "F"
        ],
        [
         16,
         "ABC11",
         "M"
        ],
        [
         14,
         "ABC12",
         "M"
        ],
        [
         36,
         "ABC35",
         "M"
        ],
        [
         32,
         "ABC28",
         "M"
        ],
        [
         34,
         "ABC29",
         "M"
        ],
        [
         35,
         "ABC33",
         "F"
        ],
        [
         8,
         "ABC3",
         "M"
        ],
        [
         7,
         "ABC6",
         "F"
        ],
        [
         38,
         "ABC34",
         "M"
        ],
        [
         0,
         "ABC36",
         "M"
        ],
        [
         33,
         "ABC31",
         "F"
        ],
        [
         11,
         "ABC9",
         "F"
        ],
        [
         35,
         "ABC30",
         "F"
        ],
        [
         20,
         "ABC15",
         "M"
        ],
        [
         28,
         "ABC27",
         "M"
        ],
        [
         22,
         "ABC21",
         "M"
        ],
        [
         11,
         "ABC8",
         "F"
        ],
        [
         38,
         "ABC35",
         "M"
        ],
        [
         23,
         "ABC21",
         "F"
        ],
        [
         19,
         "ABC15",
         "F"
        ],
        [
         37,
         "ABC36",
         "F"
        ],
        [
         29,
         "ABC27",
         "F"
        ],
        [
         10,
         "ABC9",
         "M"
        ],
        [
         39,
         "ABC36",
         "F"
        ],
        [
         4,
         "ABC3",
         "M"
        ],
        [
         9,
         "ABC8",
         "F"
        ],
        [
         16,
         "ABC15",
         "M"
        ],
        [
         13,
         "ABC11",
         "F"
        ],
        [
         28,
         "ABC24",
         "M"
        ],
        [
         30,
         "ABC28",
         "M"
        ],
        [
         30,
         "ABC26",
         "M"
        ],
        [
         34,
         "ABC33",
         "M"
        ],
        [
         10,
         "ABC5",
         "M"
        ],
        [
         16,
         "ABC13",
         "M"
        ],
        [
         26,
         "ABC22",
         "M"
        ],
        [
         24,
         "ABC19",
         "M"
        ],
        [
         16,
         "ABC12",
         "M"
        ],
        [
         0,
         "ABC35",
         "M"
        ],
        [
         33,
         "ABC32",
         "F"
        ],
        [
         18,
         "ABC15",
         "M"
        ],
        [
         27,
         "ABC22",
         "F"
        ],
        [
         37,
         "ABC34",
         "F"
        ],
        [
         4,
         "ABC39",
         "M"
        ],
        [
         31,
         "ABC26",
         "F"
        ],
        [
         5,
         "ABC3",
         "F"
        ],
        [
         25,
         "ABC24",
         "F"
        ],
        [
         35,
         "ABC32",
         "F"
        ],
        [
         34,
         "ABC31",
         "M"
        ],
        [
         20,
         "ABC16",
         "M"
        ],
        [
         1,
         "ABC39",
         "F"
        ],
        [
         6,
         "ABC3",
         "M"
        ],
        [
         32,
         "ABC29",
         "M"
        ],
        [
         24,
         "ABC23",
         "M"
        ],
        [
         11,
         "ABC10",
         "F"
        ],
        [
         3,
         "ABC0",
         "F"
        ],
        [
         23,
         "ABC20",
         "F"
        ],
        [
         25,
         "ABC22",
         "F"
        ],
        [
         4,
         "ABC0",
         "M"
        ],
        [
         27,
         "ABC24",
         "F"
        ],
        [
         29,
         "ABC25",
         "F"
        ],
        [
         3,
         "ABC2",
         "F"
        ],
        [
         31,
         "ABC28",
         "F"
        ],
        [
         7,
         "ABC4",
         "F"
        ],
        [
         6,
         "ABC1",
         "M"
        ]
       ],
       "datasetInfos": [],
       "dbfsResultPath": null,
       "isJsonSchema": true,
       "metadata": {},
       "overflow": false,
       "plotOptions": {
        "customPlotOptions": {},
        "displayType": "table",
        "pivotAggregation": null,
        "pivotColumns": null,
        "xColumns": null,
        "yColumns": null
       },
       "removedWidgets": [],
       "schema": [
        {
         "metadata": "{\"scale\":0}",
         "name": "customer_id",
         "type": "\"integer\""
        },
        {
         "metadata": "{\"scale\":0}",
         "name": "customer_name",
         "type": "\"string\""
        },
        {
         "metadata": "{}",
         "name": "customer_gender",
         "type": "\"string\""
        }
       ],
       "type": "table"
      }
     },
     "output_type": "display_data"
    },
    {
     "output_type": "display_data",
     "data": {
      "text/html": [
       "<style scoped>\n",
       "  .ansiout {\n",
       "    display: block;\n",
       "    unicode-bidi: embed;\n",
       "    white-space: pre-wrap;\n",
       "    word-wrap: break-word;\n",
       "    word-break: break-all;\n",
       "    font-family: \"Menlo\", \"Monaco\", \"Consolas\", \"Ubuntu Mono\", \"Source Code Pro\", monospace;\n",
       "    font-size: 13px;\n",
       "    color: #555;\n",
       "    margin-left: 4px;\n",
       "    line-height: 19px;\n",
       "  }\n",
       "</style>"
      ]
     },
     "metadata": {
      "application/vnd.databricks.v1+output": {
       "arguments": {},
       "data": "",
       "errorSummary": "The execution of this command did not finish successfully",
       "errorTraceType": "baseError",
       "metadata": {},
       "type": "ipynbError"
      }
     },
     "output_type": "display_data"
    }
   ],
   "source": [
    "%run /Workspace/Shared/Silver_Zone/Customer_Dimension"
   ]
  },
  {
   "cell_type": "code",
   "execution_count": 0,
   "metadata": {
    "application/vnd.databricks.v1+cell": {
     "cellMetadata": {},
     "inputWidgets": {},
     "nuid": "e2df4ec9-044a-48d9-8745-b23e5b8e70d1",
     "showTitle": false,
     "tableResultSettingsMap": {},
     "title": ""
    }
   },
   "outputs": [],
   "source": [
    "%run /Workspace/Shared/Silver_Zone/Date_Dimension"
   ]
  },
  {
   "cell_type": "code",
   "execution_count": 0,
   "metadata": {
    "application/vnd.databricks.v1+cell": {
     "cellMetadata": {},
     "inputWidgets": {},
     "nuid": "9c5471c8-76c8-45be-b4e4-23ff054de14e",
     "showTitle": false,
     "tableResultSettingsMap": {},
     "title": ""
    }
   },
   "outputs": [],
   "source": [
    "%run /Workspace/Shared/Silver_Zone/Driver Dimension"
   ]
  },
  {
   "cell_type": "code",
   "execution_count": 0,
   "metadata": {
    "application/vnd.databricks.v1+cell": {
     "cellMetadata": {},
     "inputWidgets": {},
     "nuid": "75837a98-4556-46bc-9262-c61f21384c66",
     "showTitle": false,
     "tableResultSettingsMap": {},
     "title": ""
    }
   },
   "outputs": [],
   "source": [
    "%run /Workspace/Shared/Silver_Zone/Payment_status_dimension"
   ]
  },
  {
   "cell_type": "code",
   "execution_count": 0,
   "metadata": {
    "application/vnd.databricks.v1+cell": {
     "cellMetadata": {},
     "inputWidgets": {},
     "nuid": "0e289497-0027-42a9-bb2e-6d7c85fc9662",
     "showTitle": false,
     "tableResultSettingsMap": {},
     "title": ""
    }
   },
   "outputs": [],
   "source": [
    "%run /Workspace/Shared/Silver_Zone/Ride_Rating_Fact"
   ]
  },
  {
   "cell_type": "code",
   "execution_count": 0,
   "metadata": {
    "application/vnd.databricks.v1+cell": {
     "cellMetadata": {},
     "inputWidgets": {},
     "nuid": "9585277b-606c-4d35-85f5-71926c7527f9",
     "showTitle": false,
     "tableResultSettingsMap": {},
     "title": ""
    }
   },
   "outputs": [],
   "source": [
    "%run /Workspace/Shared/Silver_Zone/trip_transacation_fact"
   ]
  }
 ],
 "metadata": {
  "application/vnd.databricks.v1+notebook": {
   "dashboards": [],
   "environmentMetadata": {
    "base_environment": "",
    "client": "1"
   },
   "language": "python",
   "notebookMetadata": {
    "mostRecentlyExecutedCommandWithImplicitDF": {
     "commandId": -1,
     "dataframes": [
      "_sqldf"
     ]
    },
    "pythonIndentUnit": 4
   },
   "notebookName": "Schedule",
   "widgets": {}
  },
  "language_info": {
   "name": "python"
  }
 },
 "nbformat": 4,
 "nbformat_minor": 0
}
